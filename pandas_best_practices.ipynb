{
 "cells": [
  {
   "cell_type": "code",
   "execution_count": 6,
   "metadata": {},
   "outputs": [],
   "source": [
    "def add_col_count(df, what, col_name):\n",
    "    if len(df) == 0:\n",
    "        counts = pd.DataFrame({col_name: 0,}, index=[what,])\n",
    "    else:\n",
    "        counts = pd.DataFrame(df[what].value_counts())\n",
    "        counts.columns = [col_name,]\n",
    "    return df.merge(counts, how='left', left_on=what, right_index=True)"
   ]
  },
  {
   "cell_type": "code",
   "execution_count": 7,
   "metadata": {},
   "outputs": [],
   "source": [
    "def add_col_count_by(df, what, col_by, col_name, col_by_sec=None, col_by_sec_name=None): #really badass recursive function\n",
    "    temp_df_all = pd.DataFrame()\n",
    "    for unique in df[col_by].unique():\n",
    "        temp_df = df[df[col_by] == unique]\n",
    "        temp_df = add_count_col(temp_df, what, col_name)\n",
    "        if col_by_sec:\n",
    "            temp_df = get_count_by(temp_df, what, col_by_sec, col_by_sec_name,)\n",
    "        temp_df_all = pd.concat([temp_df_all, temp_df])\n",
    "    return temp_df_all"
   ]
  }
 ],
 "metadata": {
  "kernelspec": {
   "display_name": "Python 3",
   "language": "python",
   "name": "python3"
  },
  "language_info": {
   "codemirror_mode": {
    "name": "ipython",
    "version": 3
   },
   "file_extension": ".py",
   "mimetype": "text/x-python",
   "name": "python",
   "nbconvert_exporter": "python",
   "pygments_lexer": "ipython3",
   "version": "3.7.4"
  }
 },
 "nbformat": 4,
 "nbformat_minor": 2
}
