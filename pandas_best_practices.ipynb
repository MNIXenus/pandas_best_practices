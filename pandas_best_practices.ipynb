{
 "cells": [
  {
   "cell_type": "code",
   "execution_count": null,
   "metadata": {},
   "outputs": [],
   "source": [
    "def count_by(df, column_what, column_by, column_name, column_by_sec=None, column_by_sec_name=None): #really badass recursive function\n",
    "    \n",
    "    temp_df_all = pd.DataFrame()\n",
    "\n",
    "    for unique in df[column_by].unique():\n",
    "        temp_df = df[df[column_by] == unique]\n",
    "\n",
    "        if len(temp_df) == 0:\n",
    "            counts = pd.DataFrame({column_name: 0,}, index=[unique,])\n",
    "        else:\n",
    "            counts = pd.DataFrame(temp_df[column_what].value_counts())\n",
    "            counts.columns = [column_name,]\n",
    "        \n",
    "        temp_df = temp_df.merge(counts, how='left', left_on=column_what, right_index=True)\n",
    "        \n",
    "        if column_by_sec:\n",
    "            temp_df = get_count_by(temp_df, column_what, column_by_sec, column_by_sec_name,)\n",
    "\n",
    "        temp_df_all = pd.concat([temp_df_all, temp_df])\n",
    "            \n",
    "\n",
    "    return temp_df_all"
   ]
  }
 ],
 "metadata": {
  "kernelspec": {
   "display_name": "Python 3",
   "language": "python",
   "name": "python3"
  },
  "language_info": {
   "codemirror_mode": {
    "name": "ipython",
    "version": 3
   },
   "file_extension": ".py",
   "mimetype": "text/x-python",
   "name": "python",
   "nbconvert_exporter": "python",
   "pygments_lexer": "ipython3",
   "version": "3.7.4"
  }
 },
 "nbformat": 4,
 "nbformat_minor": 2
}
